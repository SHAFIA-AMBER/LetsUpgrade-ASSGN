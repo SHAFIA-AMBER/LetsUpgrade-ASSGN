{
  "nbformat": 4,
  "nbformat_minor": 0,
  "metadata": {
    "colab": {
      "name": "LetsUpgrade_day3 assgn.ipynb",
      "provenance": [],
      "authorship_tag": "ABX9TyPED0GXi6Y33TsX/QR4AvfG",
      "include_colab_link": true
    },
    "kernelspec": {
      "name": "python3",
      "display_name": "Python 3"
    }
  },
  "cells": [
    {
      "cell_type": "markdown",
      "metadata": {
        "id": "view-in-github",
        "colab_type": "text"
      },
      "source": [
        "<a href=\"https://colab.research.google.com/github/SHAFIA-AMBER/LetsUpgrade-ASSGN/blob/master/LetsUpgrade_day3_assgn.ipynb\" target=\"_parent\"><img src=\"https://colab.research.google.com/assets/colab-badge.svg\" alt=\"Open In Colab\"/></a>"
      ]
    },
    {
      "cell_type": "code",
      "metadata": {
        "id": "0WruzcDXsAgd",
        "colab_type": "code",
        "colab": {
          "base_uri": "https://localhost:8080/",
          "height": 51
        },
        "outputId": "6f3fa22f-990a-4c3c-c7a2-d6149f654f9b"
      },
      "source": [
        "#assignment:1,Day-3\n",
        "me=input('give alt-')\n",
        "u=int(me)\n",
        "altitude_req=1000\n",
        "\n",
        "if u <= 1000:\n",
        "   print('land the plane ')\n",
        "elif 1000<u<5000:\n",
        "    print('come down to 1000ft')\n",
        "else :\n",
        "  if u>5000:\n",
        "    print('go around and try later')"
      ],
      "execution_count": null,
      "outputs": [
        {
          "output_type": "stream",
          "text": [
            "give alt-516584\n",
            "go around and try later\n"
          ],
          "name": "stdout"
        }
      ]
    },
    {
      "cell_type": "code",
      "metadata": {
        "id": "M5i898iJjXz9",
        "colab_type": "code",
        "colab": {}
      },
      "source": [
        ""
      ],
      "execution_count": null,
      "outputs": []
    },
    {
      "cell_type": "code",
      "metadata": {
        "id": "hX73x3UlvaNX",
        "colab_type": "code",
        "colab": {
          "base_uri": "https://localhost:8080/",
          "height": 816
        },
        "outputId": "ad264f9e-b5b8-4e8d-e806-0add555ecd9d"
      },
      "source": [
        "#assignment:2,Day-3\n",
        "\n",
        "for i in range(1,200):\n",
        "  for j in range(2,i):\n",
        "    if (i%j==0):\n",
        "      break\n",
        "  else:\n",
        "    print(i)"
      ],
      "execution_count": null,
      "outputs": [
        {
          "output_type": "stream",
          "text": [
            "1\n",
            "2\n",
            "3\n",
            "5\n",
            "7\n",
            "11\n",
            "13\n",
            "17\n",
            "19\n",
            "23\n",
            "29\n",
            "31\n",
            "37\n",
            "41\n",
            "43\n",
            "47\n",
            "53\n",
            "59\n",
            "61\n",
            "67\n",
            "71\n",
            "73\n",
            "79\n",
            "83\n",
            "89\n",
            "97\n",
            "101\n",
            "103\n",
            "107\n",
            "109\n",
            "113\n",
            "127\n",
            "131\n",
            "137\n",
            "139\n",
            "149\n",
            "151\n",
            "157\n",
            "163\n",
            "167\n",
            "173\n",
            "179\n",
            "181\n",
            "191\n",
            "193\n",
            "197\n",
            "199\n"
          ],
          "name": "stdout"
        }
      ]
    }
  ]
}