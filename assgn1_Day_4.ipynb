{
  "nbformat": 4,
  "nbformat_minor": 0,
  "metadata": {
    "colab": {
      "name": "assgn1_Day_4.ipynb",
      "provenance": [],
      "collapsed_sections": [],
      "authorship_tag": "ABX9TyNfN+kLblJuIxOm2CZJRAR+",
      "include_colab_link": true
    },
    "kernelspec": {
      "name": "python3",
      "display_name": "Python 3"
    }
  },
  "cells": [
    {
      "cell_type": "markdown",
      "metadata": {
        "id": "view-in-github",
        "colab_type": "text"
      },
      "source": [
        "<a href=\"https://colab.research.google.com/github/SHAFIA-AMBER/LetsUpgrade-ASSGN/blob/master/assgn1_Day_4.ipynb\" target=\"_parent\"><img src=\"https://colab.research.google.com/assets/colab-badge.svg\" alt=\"Open In Colab\"/></a>"
      ]
    },
    {
      "cell_type": "code",
      "metadata": {
        "id": "mkk9-cWvjdJU",
        "colab_type": "code",
        "colab": {}
      },
      "source": [
        "lower_Range = 1042000  \n",
        "upper_Range = 702648265 \n",
        "  \n",
        "for n in range(lower_Range,upper_Range + 1):  \n",
        "   sum = 0  \n",
        "   temp = n  \n",
        "   while temp > 0:  \n",
        "       digit = temp % 10  \n",
        "       sum = sum + digit ** 3  \n",
        "       temp = temp // 10  \n",
        "  \n",
        "   if n == sum: \n",
        "      \n",
        "     print(n)\n",
        "     exit()"
      ],
      "execution_count": null,
      "outputs": []
    }
  ]
}