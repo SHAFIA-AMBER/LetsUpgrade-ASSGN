{
  "nbformat": 4,
  "nbformat_minor": 0,
  "metadata": {
    "colab": {
      "name": "assignment 1,Day -2.ipynb",
      "provenance": [],
      "authorship_tag": "ABX9TyPapf7xFdbpn1SOUkOsGIzY",
      "include_colab_link": true
    },
    "kernelspec": {
      "name": "python3",
      "display_name": "Python 3"
    }
  },
  "cells": [
    {
      "cell_type": "markdown",
      "metadata": {
        "id": "view-in-github",
        "colab_type": "text"
      },
      "source": [
        "<a href=\"https://colab.research.google.com/github/SHAFIA-AMBER/LetsUpgrade-ASSGN/blob/master/assignment_1%2CDay_2.ipynb\" target=\"_parent\"><img src=\"https://colab.research.google.com/assets/colab-badge.svg\" alt=\"Open In Colab\"/></a>"
      ]
    },
    {
      "cell_type": "code",
      "metadata": {
        "id": "nvVM8q7Bz7ja",
        "colab_type": "code",
        "colab": {
          "base_uri": "https://localhost:8080/",
          "height": 34
        },
        "outputId": "ceef9f5c-3836-4537-e151-661da0da6108"
      },
      "source": [
        "#list methods\n",
        "lst=['apple','nan','shafu']\n",
        "sh=[1,2,3]\n",
        "lst.append('me')\n",
        "lst.count('apple')\n",
        "lst.pop(0)\n",
        "lst.extend(sh)\n",
        "lst.copy()\n",
        "lst.insert(1,'amber')\n",
        "\n",
        "print(lst)\n"
      ],
      "execution_count": 2,
      "outputs": [
        {
          "output_type": "stream",
          "text": [
            "['nan', 'amber', 'shafu', 'me', 1, 2, 3]\n"
          ],
          "name": "stdout"
        }
      ]
    },
    {
      "cell_type": "code",
      "metadata": {
        "id": "7-Pr4kXQ3nFK",
        "colab_type": "code",
        "colab": {
          "base_uri": "https://localhost:8080/",
          "height": 34
        },
        "outputId": "425bd9ac-b3b3-4935-97a4-cf116f863585"
      },
      "source": [
        "#dict methods\n",
        "k={'me':'shafu','you':'sai','him':'sharu'}\n",
        "k['me']='aarif'\n",
        "k.copy()\n",
        "\n",
        "\n",
        "sh=k.update({'shafia':'laz'})\n",
        "ge=k.get('you')\n",
        "k.pop('you')\n",
        "k.popitem()\n",
        "k.values()\n",
        "se=k.setdefault('myou','shafia')\n",
        "print(k,sh,ge,se)"
      ],
      "execution_count": 29,
      "outputs": [
        {
          "output_type": "stream",
          "text": [
            "{'me': 'aarif', 'him': 'sharu', 'myou': 'shafia'} None sai shafia\n"
          ],
          "name": "stdout"
        }
      ]
    },
    {
      "cell_type": "code",
      "metadata": {
        "id": "y3U74WwvULju",
        "colab_type": "code",
        "colab": {}
      },
      "source": [
        ""
      ],
      "execution_count": null,
      "outputs": []
    },
    {
      "cell_type": "code",
      "metadata": {
        "id": "UnZJUAf-SyLd",
        "colab_type": "code",
        "colab": {}
      },
      "source": [
        "#tuple methods\n",
        "tu=(1,2,3,5,6,8,9,7)\n",
        "k=tu.count(8)\n",
        "#returns the freq of a no.\n",
        "h=tu.index(3)\n",
        "#Search for the first occurrence of the value 8, and return its position\n",
        "print(h)\n"
      ],
      "execution_count": null,
      "outputs": []
    },
    {
      "cell_type": "code",
      "metadata": {
        "id": "APSecyhZULei",
        "colab_type": "code",
        "colab": {
          "base_uri": "https://localhost:8080/",
          "height": 34
        },
        "outputId": "554e91f5-028a-4c83-ea1b-abff7d968985"
      },
      "source": [
        "#set methods\n",
        "name={'shf','idr','shr','pyth'}\n",
        "n={'shf','idr'}\n",
        "name.add('added')\n",
        "name.copy()\n",
        "z=name.difference(n)\n",
        "name.discard('shf')\n",
        "i=n.intersection(name)\n",
        "print(i)"
      ],
      "execution_count": 42,
      "outputs": [
        {
          "output_type": "stream",
          "text": [
            "{'idr'}\n"
          ],
          "name": "stdout"
        }
      ]
    },
    {
      "cell_type": "code",
      "metadata": {
        "id": "5QaT9nQcULYq",
        "colab_type": "code",
        "colab": {
          "base_uri": "https://localhost:8080/",
          "height": 34
        },
        "outputId": "8a98f2ac-4c88-4672-e28e-49343ff44d2d"
      },
      "source": [
        "#string methods\n",
        "str=' ma shafia amber'\n",
        "str.strip()\n",
        "u=str.upper()\n",
        "s=str.capitalize()\n",
        "iss=str.index('ma')\n",
        "r=str.replace('shafia','shafu')\n",
        "print(r)"
      ],
      "execution_count": 53,
      "outputs": [
        {
          "output_type": "stream",
          "text": [
            " ma shafu amber\n"
          ],
          "name": "stdout"
        }
      ]
    }
  ]
}